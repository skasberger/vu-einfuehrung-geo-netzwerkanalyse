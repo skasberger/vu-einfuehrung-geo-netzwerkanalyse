{
 "metadata": {
  "name": ""
 },
 "nbformat": 3,
 "nbformat_minor": 0,
 "worksheets": [
  {
   "cells": [
    {
     "cell_type": "markdown",
     "metadata": {},
     "source": [
      "# Spatial Network Analysis with iPython\n",
      "\n",
      "- Author: Stefan Kasberger\n",
      "- Date: February 2014\n",
      "- Course: VU Einf\u00fchrung in die Netzwerkanalyse von Zimmermann-Janschitz\n",
      "- [GitHub](https://github.com/skasberger/vu-einfuehrung-geo-netzwerkanalyse) & [openscienceASAP](http://openscienceasap.org/education/courses/vu-einfuehrung-geo-netzwerkanalyse/)\n",
      "\n",
      "**PACKAGES**\n",
      "\n",
      "- [networkx](http://networkx.lanl.gov/)\n",
      "- [iGraph](http://igraph.sourceforge.net/)\n",
      "- [pyshp](http://code.google.com/p/pyshp/)\n",
      "- [shapely](https://pypi.python.org/pypi/Shapely)\n",
      "- [pyproj](https://code.google.com/p/pyproj/)\n",
      "- [GDAL](https://pypi.python.org/pypi/GDAL/)\n",
      "- [pysal](https://code.google.com/p/pysal/)\n",
      "- [geopy](https://code.google.com/p/geopy/)\n",
      "- [fiona](http://toblerity.org/fiona/)\n",
      "- [descartes](https://pypi.python.org/pypi/descartes)\n",
      "- [cartopy](http://scitools.org.uk/cartopy/)\n",
      "- [QGIS](http://www.qgis.org/en/docs/pyqgis_developer_cookbook/intro.html)"
     ]
    },
    {
     "cell_type": "code",
     "collapsed": false,
     "input": [
      "import networkx as nx\n",
      "from networkx.classes import function\n",
      "from networkx.algorithms import shortest_paths\n",
      "from networkx.readwrite import nx_shp\n",
      "import igraph as ig\n",
      "import pandas as pd\n",
      "import matplotlib.pyplot as plt\n",
      "import shapefile\n",
      "from shapely.geometry import LineString\n",
      "from descartes import PolygonPatch\n",
      "from qgis.core import *\n",
      "import psycopg2\n",
      "import sys"
     ],
     "language": "python",
     "metadata": {},
     "outputs": [],
     "prompt_number": 1
    },
    {
     "cell_type": "code",
     "collapsed": false,
     "input": [
      "con = None\n",
      "\n",
      "try:\n",
      "     \n",
      "    con = psycopg2.connect(database='postgres', user='postgres') \n",
      "    cur = con.cursor()\n",
      "    cur.execute('SELECT version()')          \n",
      "    ver = cur.fetchone()\n",
      "    print ver    \n",
      "    \n",
      "\n",
      "except psycopg2.DatabaseError, e:\n",
      "    print 'Error %s' % e    \n",
      "    sys.exit(1)\n",
      "    \n",
      "    \n",
      "finally:\n",
      "    \n",
      "    if con:\n",
      "        con.close()"
     ],
     "language": "python",
     "metadata": {},
     "outputs": [
      {
       "ename": "SystemExit",
       "evalue": "1",
       "output_type": "pyerr",
       "traceback": [
        "An exception has occurred, use %tb to see the full traceback.\n",
        "\u001b[1;31mSystemExit\u001b[0m\u001b[1;31m:\u001b[0m 1\n"
       ]
      },
      {
       "output_type": "stream",
       "stream": "stdout",
       "text": [
        "Error FATAL:  Peer authentication failed for user \"postgres\"\n",
        "\n"
       ]
      },
      {
       "output_type": "stream",
       "stream": "stderr",
       "text": [
        "To exit: use 'exit', 'quit', or Ctrl-D.\n"
       ]
      }
     ],
     "prompt_number": 2
    },
    {
     "cell_type": "markdown",
     "metadata": {},
     "source": [
      "Import config file with your working directory = dir_vu_geonet"
     ]
    },
    {
     "cell_type": "code",
     "collapsed": false,
     "input": [
      "from config import *\n",
      "\n",
      "# CUSTOM WORKING DIRECTORY\n",
      "# to add your working directory manually, uncomment the next line and add it instead of 'YOUR/FOLDER' to your folder\n",
      "# dir_vu_geonet = 'YOUR/FOLDER'"
     ],
     "language": "python",
     "metadata": {},
     "outputs": [],
     "prompt_number": 3
    },
    {
     "cell_type": "code",
     "collapsed": false,
     "input": [],
     "language": "python",
     "metadata": {},
     "outputs": [],
     "prompt_number": 25
    },
    {
     "cell_type": "code",
     "collapsed": false,
     "input": [],
     "language": "python",
     "metadata": {},
     "outputs": [],
     "prompt_number": 15
    },
    {
     "cell_type": "code",
     "collapsed": false,
     "input": [],
     "language": "python",
     "metadata": {},
     "outputs": []
    },
    {
     "cell_type": "code",
     "collapsed": false,
     "input": [],
     "language": "python",
     "metadata": {},
     "outputs": [],
     "prompt_number": 15
    },
    {
     "cell_type": "markdown",
     "metadata": {},
     "source": [
      "Shapefiles als Graphen importieren"
     ]
    },
    {
     "cell_type": "code",
     "collapsed": false,
     "input": [
      "Wien_OeffLin = nx_shp.read_shp(dir_vu_geonet + 'data/raw/shape/wien-oeffentliche-linien/wien-oeffentliche-linien.shp')\n",
      "Wien_Strassengraph = nx_shp.read_shp(dir_vu_geonet + 'data/raw/shape/wien-strassengraph/wien-strassengraph.shp')\n",
      "Stmk_LaendlStrassen = nx_shp.read_shp(dir_vu_geonet + 'data/raw/shape/steiermark-laendliches-strassennetz/steiermark-laendliches-strassennetz.shp')\n",
      "Wien_Ubahn = nx_shp.read_shp(dir_vu_geonet + 'data/raw/shape/wien-ubahn-lines/wien-ubahn-lines.shp')\n",
      "Wien_OeffHalte = nx_shp.read_shp(dir_vu_geonet + 'data/raw/shape/wien-oeffentliche-haltestellen/wien-oeffentliche-haltestellen.shp')\n",
      "Wien_Asfinag = nx_shp.read_shp(dir_vu_geonet + 'data/raw/shape/wien-asfinag-strassen/wien-asfinag-strassen.shp')"
     ],
     "language": "python",
     "metadata": {},
     "outputs": [],
     "prompt_number": 7
    },
    {
     "cell_type": "code",
     "collapsed": false,
     "input": [
      "print 'Wien \u00d6ffi Linien\\n' + function.info(Wien_OeffLin)\n",
      "print '\\nWien Strassengraph\\n' + function.info(Wien_Strassengraph)\n",
      "print '\\nWien U-Bahn Linien\\n' + function.info(Wien_Ubahn)\n",
      "print '\\nWien \u00d6ffi Haltestellen\\n' + function.info(Wien_OeffHalte)\n",
      "print '\\nWien ASFINAG Strassennetz\\n' + function.info(Wien_Asfinag)\n",
      "print '\\nSteiermark Laendlstrassen\\n' + function.info(Stmk_LaendlStrassen)"
     ],
     "language": "python",
     "metadata": {},
     "outputs": [
      {
       "output_type": "stream",
       "stream": "stdout",
       "text": [
        "Wien \u00d6ffi Linien\n",
        "Name: \n",
        "Type: DiGraph\n",
        "Number of nodes: 1322\n",
        "Number of edges: 1807\n",
        "Average in degree:   1.3669\n",
        "Average out degree:   1.3669\n",
        "\n",
        "Wien Strassengraph\n",
        "Name: \n",
        "Type: DiGraph\n",
        "Number of nodes: 19106\n",
        "Number of edges: 27750\n",
        "Average in degree:   1.4524\n",
        "Average out degree:   1.4524"
       ]
      },
      {
       "output_type": "stream",
       "stream": "stdout",
       "text": [
        "\n",
        "\n",
        "Wien U-Bahn Linien\n",
        "Name: \n",
        "Type: DiGraph\n",
        "Number of nodes: 119\n",
        "Number of edges: 97\n",
        "Average in degree:   0.8151\n",
        "Average out degree:   0.8151\n",
        "\n",
        "Wien \u00d6ffi Haltestellen\n",
        "Name: \n",
        "Type: DiGraph\n",
        "Number of nodes: 2887\n",
        "Number of edges: 0\n",
        "Average in degree:   0.0000\n",
        "Average out degree:   0.0000\n",
        "\n",
        "Wien ASFINAG Strassennetz\n",
        "Name: \n",
        "Type: DiGraph\n",
        "Number of nodes: 868\n",
        "Number of edges: 817\n",
        "Average in degree:   0.9412\n",
        "Average out degree:   0.9412\n",
        "\n",
        "Steiermark Laendlstrassen\n",
        "Name: \n",
        "Type: DiGraph\n",
        "Number of nodes: 104575\n",
        "Number of edges: 102805\n",
        "Average in degree:   0.9831\n",
        "Average out degree:   0.9831"
       ]
      },
      {
       "output_type": "stream",
       "stream": "stdout",
       "text": [
        "\n"
       ]
      }
     ],
     "prompt_number": 8
    },
    {
     "cell_type": "code",
     "collapsed": false,
     "input": [
      "# show attributes of nodes and edges\n",
      "print 'Edge 1: ' + str(Wien_Strassengraph.edges()[1]) + '\\nNode 1: ' + str(Wien_Strassengraph.nodes()[1])"
     ],
     "language": "python",
     "metadata": {},
     "outputs": [
      {
       "output_type": "stream",
       "stream": "stdout",
       "text": [
        "Edge 1: ((16.391218514692277, 48.212955119667996), (16.391512960348024, 48.213635511668166))\n",
        "Node 1: (16.391218514692277, 48.212955119667996)\n"
       ]
      }
     ],
     "prompt_number": 9
    },
    {
     "cell_type": "code",
     "collapsed": false,
     "input": [
      "%matplotlib inline\n",
      "nx.draw(Wien_Asfinag)"
     ],
     "language": "python",
     "metadata": {},
     "outputs": [
      {
       "metadata": {},
       "output_type": "display_data",
       "png": "[encoded data removed]",
       "text": [
        "<matplotlib.figure.Figure at 0x7f6d18048f50>"
       ]
      }
     ],
     "prompt_number": 24
    },
    {
     "cell_type": "code",
     "collapsed": false,
     "input": [
      "# Shortest Path zwischen zwei Knoten => Pfad ausgeben lassen => als Shape speichern"
     ],
     "language": "python",
     "metadata": {},
     "outputs": []
    },
    {
     "cell_type": "code",
     "collapsed": false,
     "input": [
      "shortest_paths.has_path(G, source, target)"
     ],
     "language": "python",
     "metadata": {},
     "outputs": []
    },
    {
     "cell_type": "code",
     "collapsed": false,
     "input": [
      "shortest_paths.shortest_path(G, source=None, target=None, weight=None)"
     ],
     "language": "python",
     "metadata": {},
     "outputs": []
    },
    {
     "cell_type": "code",
     "collapsed": false,
     "input": [
      "shortest_paths.dijkstra_path(G, source, target, weight='weight')"
     ],
     "language": "python",
     "metadata": {},
     "outputs": []
    },
    {
     "cell_type": "code",
     "collapsed": false,
     "input": [
      "shortest_paths.bellman_ford(G, source, weight='weight')"
     ],
     "language": "python",
     "metadata": {},
     "outputs": []
    },
    {
     "cell_type": "code",
     "collapsed": false,
     "input": [
      "shortest_paths.astar_path(G, source, target, heuristic=None, weight='weight')"
     ],
     "language": "python",
     "metadata": {},
     "outputs": []
    },
    {
     "cell_type": "code",
     "collapsed": false,
     "input": [],
     "language": "python",
     "metadata": {},
     "outputs": []
    },
    {
     "cell_type": "code",
     "collapsed": false,
     "input": [],
     "language": "python",
     "metadata": {},
     "outputs": []
    },
    {
     "cell_type": "code",
     "collapsed": false,
     "input": [
      "# TODO\n",
      "# - get CRS from shapefile"
     ],
     "language": "python",
     "metadata": {},
     "outputs": []
    },
    {
     "cell_type": "code",
     "collapsed": false,
     "input": [],
     "language": "python",
     "metadata": {},
     "outputs": []
    }
   ],
   "metadata": {}
  }
 ]
}